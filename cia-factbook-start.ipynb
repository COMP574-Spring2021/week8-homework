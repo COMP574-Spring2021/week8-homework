{
 "cells": [
  {
   "cell_type": "markdown",
   "metadata": {},
   "source": [
    "### Web Scraping the CIA World Factbook\n",
    "\n",
    "In this example, we will work on data comes from the CIA World Factbook. However, the CIA does not provide the factbook in the form of a nice and convenient CSV file, so we need to convert the data from its human-readable format (as a webpage) to a Pandas friendly format, a CSV file.\n",
    "\n",
    "\n",
    "Note: For the following to work, you need [the factbook data](https://www.cia.gov/the-world-factbook/about/archives/) to be downloaded, unziped and in the same directory as this file. "
   ]
  },
  {
   "cell_type": "code",
   "execution_count": null,
   "metadata": {},
   "outputs": [],
   "source": [
    "from bs4 import BeautifulSoup\n",
    "import pandas as pd"
   ]
  },
  {
   "cell_type": "code",
   "execution_count": null,
   "metadata": {
    "scrolled": true
   },
   "outputs": [],
   "source": [
    "file = open('factbook2017/docs/notesanddefs.html', encoding='utf-8').read()"
   ]
  },
  {
   "cell_type": "code",
   "execution_count": null,
   "metadata": {
    "scrolled": true
   },
   "outputs": [],
   "source": [
    "page = BeautifulSoup(file)\n",
    "print(page.prettify()[:5000])"
   ]
  },
  {
   "cell_type": "markdown",
   "metadata": {},
   "source": [
    "__Question 1__ How many hyper links does this file have?"
   ]
  },
  {
   "cell_type": "code",
   "execution_count": null,
   "metadata": {},
   "outputs": [],
   "source": [
    "links = page.select('a')\n",
    "print(len(links))\n",
    "links[-1] # print last link"
   ]
  },
  {
   "cell_type": "code",
   "execution_count": null,
   "metadata": {},
   "outputs": [],
   "source": [
    "div_tags = page.select('div')\n",
    "print(len(div_tags))\n",
    "div_tags[-1]"
   ]
  },
  {
   "source": [
    "__Question 2__ What kind of tag is the last tag to have the CSS class of “cfclose”? "
   ],
   "cell_type": "markdown",
   "metadata": {}
  },
  {
   "cell_type": "markdown",
   "metadata": {},
   "source": [
    "#### Find all fields and their path.\n",
    "\n",
    "The feature name (like Administrative divisions or Airports) and the link to the page that has all of the data for this feature for each country.\n",
    "\n",
    "We will try to make a list of the columns and the paths to the files that contain the data. We will do this by creating a list of all of the span tags with the class category. As we iterate over each of them, we can use select to find the td tags inside the span. There should be two of them in each. The first will give us the name of the column and the second will have the path to the file contained in the href attribute.\n"
   ]
  },
  {
   "cell_type": "code",
   "execution_count": null,
   "metadata": {},
   "outputs": [],
   "source": [
    "cols = page.select(\"span.category\")\n",
    "col = cols[2]\n",
    "col"
   ]
  },
  {
   "cell_type": "code",
   "execution_count": null,
   "metadata": {},
   "outputs": [],
   "source": [
    "cells = col.select('td')\n",
    "cells[0]"
   ]
  },
  {
   "cell_type": "code",
   "execution_count": null,
   "metadata": {},
   "outputs": [],
   "source": [
    "cells[0].text"
   ]
  },
  {
   "cell_type": "code",
   "execution_count": null,
   "metadata": {},
   "outputs": [],
   "source": [
    "cells[1]"
   ]
  },
  {
   "cell_type": "code",
   "execution_count": null,
   "metadata": {},
   "outputs": [],
   "source": [
    "links = cells[1].select('a')\n",
    "links[0]"
   ]
  },
  {
   "cell_type": "code",
   "execution_count": null,
   "metadata": {},
   "outputs": [],
   "source": [
    "links[0]['href']"
   ]
  },
  {
   "source": [
    "__Question 3__ Find the link to the page file contains information about infant mortality"
   ],
   "cell_type": "markdown",
   "metadata": {}
  },
  {
   "source": [
    "__Question 4__ Create a data frame that contains the information about infant mortality for all countries. "
   ],
   "cell_type": "markdown",
   "metadata": {}
  }
 ],
 "metadata": {
  "kernelspec": {
   "display_name": "Python 3",
   "language": "python",
   "name": "python3"
  },
  "language_info": {
   "codemirror_mode": {
    "name": "ipython",
    "version": 3
   },
   "file_extension": ".py",
   "mimetype": "text/x-python",
   "name": "python",
   "nbconvert_exporter": "python",
   "pygments_lexer": "ipython3",
   "version": "3.8.3"
  }
 },
 "nbformat": 4,
 "nbformat_minor": 4
}